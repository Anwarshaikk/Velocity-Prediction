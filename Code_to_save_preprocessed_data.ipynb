{
  "nbformat": 4,
  "nbformat_minor": 0,
  "metadata": {
    "colab": {
      "provenance": [],
      "mount_file_id": "1vq8DyfSJvfcLpgRcwqlALIDuhefqW75u",
      "authorship_tag": "ABX9TyMtgHS0rMQdBsqAC8QgQYkP",
      "include_colab_link": true
    },
    "kernelspec": {
      "name": "python3",
      "display_name": "Python 3"
    },
    "language_info": {
      "name": "python"
    }
  },
  "cells": [
    {
      "cell_type": "markdown",
      "metadata": {
        "id": "view-in-github",
        "colab_type": "text"
      },
      "source": [
        "<a href=\"https://colab.research.google.com/github/Anwarshaikk/Velocity-Prediction/blob/main/Code_to_save_preprocessed_data.ipynb\" target=\"_parent\"><img src=\"https://colab.research.google.com/assets/colab-badge.svg\" alt=\"Open In Colab\"/></a>"
      ]
    },
    {
      "cell_type": "code",
      "execution_count": 4,
      "metadata": {
        "colab": {
          "base_uri": "https://localhost:8080/",
          "height": 158
        },
        "id": "kKLL4bZ6msTT",
        "outputId": "50c8f967-5d95-4e97-a931-52572125636d"
      },
      "outputs": [
        {
          "output_type": "stream",
          "name": "stdout",
          "text": [
            "Standard dataset preprocessed and saved to /content/drive/MyDrive/Velocity Prediction/Preprocessed datasets/preprocessed_FTP_standard.xlsx\n",
            "Synthetic dataset preprocessed and saved to /content/drive/MyDrive/Velocity Prediction/Preprocessed datasets/preprocessed_FTP Standard_Synthetic_v4.xlsx\n",
            "Synthetic dataset preprocessed and saved to /content/drive/MyDrive/Velocity Prediction/Preprocessed datasets/preprocessed_FTP Standard_Synthetic_v3.xlsx\n",
            "Synthetic dataset preprocessed and saved to /content/drive/MyDrive/Velocity Prediction/Preprocessed datasets/preprocessed_FTP Standard_Synthetic_v2.xlsx\n",
            "Synthetic dataset preprocessed and saved to /content/drive/MyDrive/Velocity Prediction/Preprocessed datasets/preprocessed_FTP Standard_Synthetic_v1.xlsx\n",
            "Synthetic dataset preprocessed and saved to /content/drive/MyDrive/Velocity Prediction/Preprocessed datasets/preprocessed_FTP Standard_Synthetic_v5.xlsx\n",
            "Combined preprocessed dataset saved to /content/drive/MyDrive/Velocity Prediction/Preprocessed datasets/Combined_Preprocessed_Dataset.xlsx\n"
          ]
        },
        {
          "output_type": "display_data",
          "data": {
            "text/plain": [
              "<IPython.core.display.Javascript object>"
            ],
            "application/javascript": [
              "\n",
              "    async function download(id, filename, size) {\n",
              "      if (!google.colab.kernel.accessAllowed) {\n",
              "        return;\n",
              "      }\n",
              "      const div = document.createElement('div');\n",
              "      const label = document.createElement('label');\n",
              "      label.textContent = `Downloading \"${filename}\": `;\n",
              "      div.appendChild(label);\n",
              "      const progress = document.createElement('progress');\n",
              "      progress.max = size;\n",
              "      div.appendChild(progress);\n",
              "      document.body.appendChild(div);\n",
              "\n",
              "      const buffers = [];\n",
              "      let downloaded = 0;\n",
              "\n",
              "      const channel = await google.colab.kernel.comms.open(id);\n",
              "      // Send a message to notify the kernel that we're ready.\n",
              "      channel.send({})\n",
              "\n",
              "      for await (const message of channel.messages) {\n",
              "        // Send a message to notify the kernel that we're ready.\n",
              "        channel.send({})\n",
              "        if (message.buffers) {\n",
              "          for (const buffer of message.buffers) {\n",
              "            buffers.push(buffer);\n",
              "            downloaded += buffer.byteLength;\n",
              "            progress.value = downloaded;\n",
              "          }\n",
              "        }\n",
              "      }\n",
              "      const blob = new Blob(buffers, {type: 'application/binary'});\n",
              "      const a = document.createElement('a');\n",
              "      a.href = window.URL.createObjectURL(blob);\n",
              "      a.download = filename;\n",
              "      div.appendChild(a);\n",
              "      a.click();\n",
              "      div.remove();\n",
              "    }\n",
              "  "
            ]
          },
          "metadata": {}
        },
        {
          "output_type": "display_data",
          "data": {
            "text/plain": [
              "<IPython.core.display.Javascript object>"
            ],
            "application/javascript": [
              "download(\"download_8b1855e5-5ee2-47f1-bf7e-e1a286b00b62\", \"Combined_Preprocessed_Dataset.xlsx\", 164193)"
            ]
          },
          "metadata": {}
        }
      ],
      "source": [
        "import pandas as pd\n",
        "import os\n",
        "from sklearn.preprocessing import MinMaxScaler\n",
        "from google.colab import files\n",
        "\n",
        "# Define input and output file paths\n",
        "input_file_standard = '/content/drive/MyDrive/Velocity Prediction/Standard Datasets/FTP Standard.xlsx'  # Path to the standard dataset (replace as needed)\n",
        "input_folder_synthetic = '/content/drive/MyDrive/Velocity Prediction/Synthetic Datasets/FTP Synthetic'  # Path to the synthetic datasets folder\n",
        "output_folder = '/content/drive/MyDrive/Velocity Prediction/Preprocessed datasets'  # Path to save the preprocessed datasets\n",
        "combined_file_path = os.path.join(output_folder, 'Combined_Preprocessed_Dataset.xlsx')  # Ensure the output file has the .xlsx extension\n",
        "\n",
        "# Create output folder if it doesn't exist\n",
        "if not os.path.exists(output_folder):\n",
        "    os.makedirs(output_folder)\n",
        "\n",
        "# Define a function to preprocess a dataset\n",
        "def preprocess_dataset(file_path, scaler=None):\n",
        "    data = pd.read_excel(file_path)\n",
        "    time = data['Test Time, secs'].values.reshape(-1, 1)\n",
        "    speed = data['Target Speed, mph'].values.reshape(-1, 1)\n",
        "\n",
        "    # Scale speed values to the range [0, 1] using MinMaxScaler\n",
        "    if scaler is None:\n",
        "        scaler = MinMaxScaler(feature_range=(0, 1))\n",
        "        speed = scaler.fit_transform(speed)\n",
        "    else:\n",
        "        speed = scaler.fit_transform(speed)  # Fit the scaler to the dataset\n",
        "\n",
        "    # Create preprocessed DataFrame\n",
        "    preprocessed_data = pd.DataFrame({\n",
        "        'Test Time, secs': time.flatten(),\n",
        "        'Target Speed, mph': speed.flatten()\n",
        "    })\n",
        "\n",
        "    return preprocessed_data, scaler\n",
        "\n",
        "# Initialize the scaler\n",
        "scaler = MinMaxScaler(feature_range=(0, 1))\n",
        "\n",
        "# Preprocess the standard dataset\n",
        "preprocessed_data, scaler = preprocess_dataset(input_file_standard, scaler)\n",
        "preprocessed_file_path = os.path.join(output_folder, 'preprocessed_FTP_standard.xlsx')\n",
        "preprocessed_data.to_excel(preprocessed_file_path, index=False, engine='openpyxl')\n",
        "print(f\"Standard dataset preprocessed and saved to {preprocessed_file_path}\")\n",
        "\n",
        "all_preprocessed_data = pd.DataFrame(preprocessed_data)\n",
        "\n",
        "# Preprocess the synthetic datasets\n",
        "input_files_synthetic = [os.path.join(input_folder_synthetic, f) for f in os.listdir(input_folder_synthetic) if f.endswith('.xlsx')]\n",
        "for file_path in input_files_synthetic:\n",
        "    preprocessed_data, _ = preprocess_dataset(file_path, scaler)\n",
        "    preprocessed_file_path = os.path.join(output_folder, f'preprocessed_{os.path.basename(file_path)}')\n",
        "    preprocessed_data.to_excel(preprocessed_file_path, index=False, engine='openpyxl')\n",
        "    print(f\"Synthetic dataset preprocessed and saved to {preprocessed_file_path}\")\n",
        "    all_preprocessed_data = pd.concat([all_preprocessed_data, preprocessed_data], axis=0)\n",
        "\n",
        "# Save the combined preprocessed dataset\n",
        "all_preprocessed_data.to_excel(combined_file_path, index=False, engine='openpyxl')\n",
        "print(f\"Combined preprocessed dataset saved to {combined_file_path}\")\n",
        "\n",
        "# Download the combined preprocessed dataset\n",
        "files.download(combined_file_path)\n"
      ]
    }
  ]
}